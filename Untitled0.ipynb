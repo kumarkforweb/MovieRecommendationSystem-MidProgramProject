{
  "nbformat": 4,
  "nbformat_minor": 0,
  "metadata": {
    "colab": {
      "provenance": []
    },
    "kernelspec": {
      "name": "python3",
      "display_name": "Python 3"
    },
    "language_info": {
      "name": "python"
    }
  },
  "cells": [
    {
      "cell_type": "markdown",
      "source": [
        "# Load Library and dataset"
      ],
      "metadata": {
        "id": "dZAGDcsbzb3l"
      }
    },
    {
      "cell_type": "code",
      "execution_count": 1,
      "metadata": {
        "id": "hkGoFhjAx3NF"
      },
      "outputs": [],
      "source": [
        "import pandas as pd\n",
        "import numpy as np\n",
        "from sklearn.feature_extraction.text import CountVectorizer\n",
        "from sklearn.metrics.pairwise import cosine_similarity\n",
        "\n",
        "movies = pd.read_csv(\"/content/movies.csv\")\n",
        "ratings = pd.read_csv(\"/content/ratings.csv\")"
      ]
    },
    {
      "cell_type": "markdown",
      "source": [
        "#  popularity based recommender"
      ],
      "metadata": {
        "id": "cpDz3tHozjmG"
      }
    },
    {
      "cell_type": "code",
      "source": [
        "def popularity_based_recommender(genre, min_reviews, top_n):\n",
        "    df = movies.copy()\n",
        "    df['genres'] = df['genres'].str.split('|')\n",
        "    df = df.explode('genres')\n",
        "    df = df[df['genres'].str.lower() == genre.lower()]\n",
        "    df = df.merge(ratings, on='movieId')\n",
        "    grouped = df.groupby(['movieId', 'title']).agg(\n",
        "        avg_rating=('rating', 'mean'),\n",
        "        num_reviews=('rating', 'count')\n",
        "    ).reset_index()\n",
        "    filtered = grouped[grouped['num_reviews'] >= min_reviews]\n",
        "    sorted_df = filtered.sort_values(by='avg_rating', ascending=False).head(top_n)\n",
        "    return sorted_df[['title', 'avg_rating', 'num_reviews']].reset_index(drop=True)\n",
        "\n",
        "results = popularity_based_recommender(\n",
        "    genre=\"Comedy\",\n",
        "    min_reviews=100,\n",
        "    top_n=5\n",
        ")\n",
        "print(results)"
      ],
      "metadata": {
        "colab": {
          "base_uri": "https://localhost:8080/"
        },
        "id": "I5m4Mw04yraM",
        "outputId": "4f5f8f26-5aae-41ed-f9dc-1911d3638f79"
      },
      "execution_count": 2,
      "outputs": [
        {
          "output_type": "stream",
          "name": "stdout",
          "text": [
            "                                    title  avg_rating  num_reviews\n",
            "0  Monty Python and the Holy Grail (1975)    4.301948          154\n",
            "1                            Fargo (1996)    4.271144          201\n",
            "2              Princess Bride, The (1987)    4.163743          171\n",
            "3                     Pulp Fiction (1994)    4.160000          325\n",
            "4                     Forrest Gump (1994)    4.138264          311\n"
          ]
        }
      ]
    },
    {
      "cell_type": "markdown",
      "source": [
        "# content based recommender"
      ],
      "metadata": {
        "id": "2iQlKB9ezoog"
      }
    },
    {
      "cell_type": "code",
      "source": [
        "def content_based_recommender(movie_title, top_n):\n",
        "    df = movies.copy()\n",
        "    count_vect = CountVectorizer(tokenizer=lambda x: x.split('|'))\n",
        "    genre_matrix = count_vect.fit_transform(df['genres'])\n",
        "    cosine_sim = cosine_similarity(genre_matrix, genre_matrix)\n",
        "    idx = df[df['title'].str.lower() == movie_title.lower()].index\n",
        "    if len(idx) == 0:\n",
        "        return f\"Movie '{movie_title}' not found.\"\n",
        "    idx = idx[0]\n",
        "    sim_scores = list(enumerate(cosine_sim[idx]))\n",
        "    sim_scores = sorted(sim_scores, key=lambda x: x[1], reverse=True)[1:top_n+1]\n",
        "    movie_indices = [i[0] for i in sim_scores]\n",
        "    return df.iloc[movie_indices][['title', 'genres']].reset_index(drop=True)\n",
        "\n",
        "results = content_based_recommender(\n",
        "    movie_title=\"Toy Story (1995)\",\n",
        "    top_n=5\n",
        ")\n",
        "print(results)"
      ],
      "metadata": {
        "colab": {
          "base_uri": "https://localhost:8080/"
        },
        "id": "GIJAfKq_yhr9",
        "outputId": "49e6be5d-bf24-4f16-a2c4-2fa3dd3b81e6"
      },
      "execution_count": 3,
      "outputs": [
        {
          "output_type": "stream",
          "name": "stderr",
          "text": [
            "/usr/local/lib/python3.12/dist-packages/sklearn/feature_extraction/text.py:517: UserWarning: The parameter 'token_pattern' will not be used since 'tokenizer' is not None'\n",
            "  warnings.warn(\n"
          ]
        },
        {
          "output_type": "stream",
          "name": "stdout",
          "text": [
            "                                            title  \\\n",
            "0                                     Antz (1998)   \n",
            "1                              Toy Story 2 (1999)   \n",
            "2  Adventures of Rocky and Bullwinkle, The (2000)   \n",
            "3                Emperor's New Groove, The (2000)   \n",
            "4                           Monsters, Inc. (2001)   \n",
            "\n",
            "                                        genres  \n",
            "0  Adventure|Animation|Children|Comedy|Fantasy  \n",
            "1  Adventure|Animation|Children|Comedy|Fantasy  \n",
            "2  Adventure|Animation|Children|Comedy|Fantasy  \n",
            "3  Adventure|Animation|Children|Comedy|Fantasy  \n",
            "4  Adventure|Animation|Children|Comedy|Fantasy  \n"
          ]
        }
      ]
    },
    {
      "cell_type": "markdown",
      "source": [
        "# collaborative recommender"
      ],
      "metadata": {
        "id": "2AEquBwjzt8f"
      }
    },
    {
      "cell_type": "code",
      "source": [
        "def collaborative_recommender(user_id, k_similar=100, top_n=5):\n",
        "    user_item_matrix = ratings.pivot_table(index='userId', columns='movieId', values='rating').fillna(0)\n",
        "    if user_id not in user_item_matrix.index:\n",
        "        return f\"User ID {user_id} not found.\"\n",
        "    cosine_sim = cosine_similarity(user_item_matrix)\n",
        "    sim_users = list(enumerate(cosine_sim[user_id - 1]))\n",
        "    sim_users = sorted(sim_users, key=lambda x: x[1], reverse=True)[1:k_similar+1]\n",
        "    similar_user_ids = [i[0] + 1 for i in sim_users]\n",
        "    similar_users_data = ratings[ratings['userId'].isin(similar_user_ids)]\n",
        "    watched_by_user = ratings[ratings['userId'] == user_id]['movieId'].unique()\n",
        "    recs = similar_users_data[~similar_users_data['movieId'].isin(watched_by_user)]\n",
        "    top_recs = recs.groupby('movieId').agg(\n",
        "        avg_rating=('rating', 'mean'),\n",
        "        num_ratings=('rating', 'count')\n",
        "    ).sort_values(by=['avg_rating', 'num_ratings'], ascending=False).head(top_n)\n",
        "    return top_recs.merge(movies, on='movieId')[['title', 'avg_rating', 'num_ratings']].reset_index(drop=True)\n",
        "\n",
        "results = collaborative_recommender(\n",
        "    user_id=1,\n",
        "    k_similar=100,\n",
        "    top_n=5\n",
        ")\n",
        "print(results)"
      ],
      "metadata": {
        "colab": {
          "base_uri": "https://localhost:8080/"
        },
        "id": "N_IU7ixHyl-1",
        "outputId": "e684d450-e3c1-46ea-c35a-290535dfe39e"
      },
      "execution_count": 4,
      "outputs": [
        {
          "output_type": "stream",
          "name": "stdout",
          "text": [
            "                                 title  avg_rating  num_ratings\n",
            "0     Grand Budapest Hotel, The (2014)         5.0            3\n",
            "1  20,000 Leagues Under the Sea (1954)         5.0            2\n",
            "2                      Bulworth (1998)         5.0            2\n",
            "3            Lady Vanishes, The (1938)         5.0            2\n",
            "4                  Billy Elliot (2000)         5.0            2\n"
          ]
        }
      ]
    }
  ]
}